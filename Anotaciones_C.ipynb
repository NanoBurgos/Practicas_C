{
  "nbformat": 4,
  "nbformat_minor": 0,
  "metadata": {
    "colab": {
      "provenance": [],
      "authorship_tag": "ABX9TyOHFIn5kzR6meAt2JLD2xN+",
      "include_colab_link": true
    },
    "kernelspec": {
      "name": "python3",
      "display_name": "Python 3"
    },
    "language_info": {
      "name": "python"
    }
  },
  "cells": [
    {
      "cell_type": "markdown",
      "metadata": {
        "id": "view-in-github",
        "colab_type": "text"
      },
      "source": [
        "<a href=\"https://colab.research.google.com/github/NanoBurgos/Practicas_C/blob/main/Anotaciones_C.ipynb\" target=\"_parent\"><img src=\"https://colab.research.google.com/assets/colab-badge.svg\" alt=\"Open In Colab\"/></a>"
      ]
    },
    {
      "cell_type": "markdown",
      "source": [
        "Anotaciones varias que fui tomando mientras practicaba"
      ],
      "metadata": {
        "id": "FnU37AME86jG"
      }
    },
    {
      "cell_type": "markdown",
      "source": [
        "# 📌**p/ Ejecutar en C desde Visual**\n",
        "\n",
        "1- Guardar el archivo nombre.c\n",
        "\n",
        "2- Despues de escribir el algoritmo, guardar cambios\n",
        "\n",
        "3- Abrir terminal:\n",
        "  \n",
        "    Escribir gcc nombre.c -o nombre\n",
        "   \n",
        "    gcc -> Compilador de C\n",
        "   \n",
        "    nombre.c -> codigo fuente\n",
        "   \n",
        "    -o nombre -> indicamos el nombre del ejecutable resultante\n",
        "\n",
        "4- Ejecutamos\n",
        "  \n",
        "    desde la terminal: ./nombre\n",
        "\n",
        "# **IMPORTANTE**\n",
        "Cada vez que hacemos algun cambio, debemos volver a compilar antes de ejecutar\n",
        "\n",
        "**Si movemos los archivos de lugar**\n",
        "Hay que abrir la ubicacion(ruta), la carpeta en donde se encuentra el archivo, y alli crear el ejecutable  \n",
        "  "
      ],
      "metadata": {
        "id": "m-smQd-Csjb3"
      }
    },
    {
      "cell_type": "markdown",
      "source": [
        "# 📌**EJECUTAR VARIAS VECES, UN PROGRAMA QUE NECESITA INTRODUCIR MUCHAS VARIABLES**\n",
        "\n",
        "PARA NO TENER QUE ESTAR INTRODUCIENDO TODAS LAS VARIABLES DESPUES DE REALIZAR CAMBIOS Y VOLVER A COMPILAR\n",
        "\n",
        "1-Creamos un archivo.txt con los valores que queremos introducir (Ej: entrada.txt)\n",
        "\n",
        "2-En la carpeta donde tenemos el archivo, en la barra de direccines escribimos cmd\n",
        "(abre el CMD con la ruta de la carpeta)\n",
        "\n",
        "3- En el CMD, escribimos el nombre del archivo ejecutable\"<\"nombre del archivo txt con las variables\n",
        "\n",
        "Ej: ejercicio_part_3<entrada.txt\n",
        "\n",
        "Entonces lo que esta en el archivo \"entrada\" usa como los valores introducidos al programa"
      ],
      "metadata": {
        "id": "5_ZGWekXxJvO"
      }
    },
    {
      "cell_type": "markdown",
      "source": [
        "# **SIMBOLOS Y SIGNIFICADOS**\n",
        "\n",
        "\\n salto de linea\n",
        "\n",
        "\\t tabulacion (espacio/sangria)\n",
        "\n",
        "/*   */ para texto largo\n",
        "\n",
        "caracter -> 'a' comilla simple\n",
        "\n",
        "cadena (texto literal) -> \"oracion\" entre comillas dobles\n",
        "\n",
        "&& = And -> y\n",
        "\n",
        "'||' = Or -> ó\n",
        "\n",
        "Negacion logica -> !: Su forma general es !expresion\n",
        "\n",
        "Este operador devuelve un cero(false) si se aplica a un valor distinto de cero(true) y devuelve un uno(true) si se aplica a un valor cero (false)\n",
        "\n",
        "'\\0' simboliza el final de la cadena\n",
        "\n",
        "(&) asignación de dirección a un puntero\n",
        "\n",
        "(*) acceso a la variable apuntada\n",
        "\n",
        "\n"
      ],
      "metadata": {
        "id": "fBaP9wA3uHTY"
      }
    },
    {
      "cell_type": "markdown",
      "source": [
        "# **Tipos de datos**\n",
        "\n",
        "int %d entero (base 10)\n",
        "\n",
        "int %i entero base octal hexadecimal\n",
        "\n",
        "float %f flotante (decimal)\n",
        "\n",
        "double %lf\n",
        "\n",
        "char %c caracter\n",
        "\n",
        "string %s cadena (el tipo cadena no existe en C), en realidad es un vector de caracteres\n",
        "\n",
        "\n",
        "int *p;   // puntero a un entero\n",
        "\n",
        "char *c;  // puntero a un caracter\n",
        "\n",
        "float *f; // puntero a un float\n",
        "\n",
        "# **Para cambiar la cant de decimales despues de la coma**\n",
        "\n",
        "    float h = 1.2345678;\n",
        "\n",
        "    printf(\"El valor de h es: %.2f\", h);\n",
        "\n",
        "    -> muestra: El valor de h es: 1.23\n",
        "\n"
      ],
      "metadata": {
        "id": "2w2hKd3AKR6Q"
      }
    },
    {
      "cell_type": "markdown",
      "source": [
        "# **Para mostrar un mensaje con varias cosas,**\n",
        "\n",
        "Tenemos que poner la estructura que tendra el mensaje:\n",
        "\n",
        "Ej: 300 = 2^2 * 3^1 * 5^2 si queremos mostrar esto en pantalla\n",
        "\n",
        "    if(n!=1) printf(\"%d^%d *\",i,exponente);\n",
        "              else printf(\"%d^%d\\n\",i,exponente);\n",
        "\n",
        "\n"
      ],
      "metadata": {
        "id": "-kJcy9FEMP0-"
      }
    },
    {
      "cell_type": "markdown",
      "source": [
        "# **Recursividad**\n",
        "Es cuando una función se llama a sí misma para resolver un problema.\n",
        "\n",
        "Una función recursiva:\n",
        "\n",
        "Caso base → condición que detiene la recursión.\n",
        "\n",
        "Caso recursivo → la función se llama a sí misma con un problema más pequeño.\n",
        "\n",
        "**Sin un caso base**, la función se llamaría infinitamente y el programa se “rompería” (desbordamiento de pila)."
      ],
      "metadata": {
        "id": "Y186EDGgD1st"
      }
    },
    {
      "cell_type": "markdown",
      "source": [
        "# **Cadenas**\n",
        "\n",
        "Una cadena en realidad es un **arreglo** o un **vector de caracteres**\n",
        "\n",
        "\"Las cadenas se ponen entre comillas dobles\"\n",
        "\n",
        "\"hola que tal\" --> '\\0' la convencion en C, es que al final de la cadena se agrega un caracter mas\n",
        "\n",
        "'\\0' simboliza el final de la cadena\n",
        "\n",
        "Tenemos dos Funciones principales para capturar cadenas, (ambas estan en stdio.h)\n",
        "\n",
        "scanf(\"%s\", cadena) en el caso de los vectores o cadenas, NO se pone el & (no se busca la direccion de la cadena)\n"
      ],
      "metadata": {
        "id": "XY5ecSUTEqAd"
      }
    },
    {
      "cell_type": "markdown",
      "source": [
        "# **scanf**\n",
        "guarda lo ingresado, hasta que encuentra un espacio, una tabulacion o un enter\n",
        "\n",
        "    frase = scanf(\"hola que tal\")\n",
        "    -> frase = hola\n",
        "\n",
        "Si queremos capturar todo lo ingresado, incluyendo los espacio, debemos usar la funcion **gets()**"
      ],
      "metadata": {
        "id": "1wE4RGqynDxg"
      }
    },
    {
      "cell_type": "markdown",
      "source": [
        "# **ARREGLOS EN C**\n",
        "Un arreglo en C (también llamado array o vector) es una colección de elementos del mismo tipo, almacenados de forma contigua en memoria y accesibles mediante un índice numérico.\n",
        "\n",
        "**Características principales de un arreglo en C**\n",
        "\n",
        "Todos los elementos son del mismo tipo (int, float, char, etc.).\n",
        "\n",
        "El tamaño se define al declararlo y no se puede cambiar durante la ejecución.\n",
        "\n",
        "El índice empieza en 0 (el primer elemento está en la posición 0, el segundo en 1, etc.).\n",
        "\n",
        "Se guardan en posiciones consecutivas de memoria.\n",
        "\n",
        "    Sintaxis Basica\n",
        "\n",
        "    tipo nombre[tamaño];\n",
        "\n",
        "    Ej: int numeros[5]; //Esto reserva espacio en memoria para 5 enteros consecutivos.\n",
        "\n",
        "También puedes dejar que C cuente:\n",
        "\n",
        "    int numeros[] = {10, 20, 30, 40, 50};  // tamaño = 5\n",
        "\n",
        "# 🔹 Acceder a elementos\n",
        "\n",
        "    #include <stdio.h>\n",
        "\n",
        "    int main() {\n",
        "        int numeros[5] = {10, 20, 30, 40, 50};\n",
        "\n",
        "        printf(\"Primer elemento: %d\\n\", numeros[0]);\n",
        "        printf(\"Tercer elemento: %d\\n\", numeros[2]);\n",
        "\n",
        "        numeros[1] = 100;  // Cambiar el valor en la posición 1\n",
        "        printf(\"Nuevo valor en [1]: %d\\n\", numeros[1]);\n",
        "\n",
        "        return 0;\n",
        "    }\n",
        "\n",
        "# 🔹 Recorrer un arreglo con un bucle\n",
        "\n",
        "    #include <stdio.h>\n",
        "\n",
        "    int main() {\n",
        "        int i;\n",
        "        int numeros[5] = {2, 4, 6, 8, 10};\n",
        "\n",
        "        printf(\"Elementos del arreglo:\\n\");\n",
        "        for (i = 0; i < 5; i++) {\n",
        "            printf(\"numeros[%d] = %d\\n\", i, numeros[i]);\n",
        "        }\n",
        "\n",
        "        return 0;\n",
        "    }\n",
        "\n",
        "# 🔹 Arreglos bidimensionales (matrices)\n",
        "\n",
        "Un arreglo 2D se usa como tabla o matriz:\n",
        "\n",
        "    #include <stdio.h>\n",
        "\n",
        "    int main() {\n",
        "        int matriz[2][3] = {\n",
        "            {1, 2, 3},\n",
        "            {4, 5, 6}\n",
        "        };\n",
        "\n",
        "        printf(\"Elemento en fila 1, columna 2: %d\\n\", matriz[0][1]);  // 2\n",
        "        printf(\"Elemento en fila 2, columna 3: %d\\n\", matriz[1][2]);  // 6\n",
        "\n",
        "        return 0;\n",
        "    }\n",
        "\n",
        "# 📌 Resumen\n",
        "\n",
        "Un arreglo es un conjunto de variables del mismo tipo.\n",
        "\n",
        "Se accede a sus elementos con índices ([0], [1], ...).\n",
        "\n",
        "Puede ser unidimensional (lista) o multidimensional (matriz)."
      ],
      "metadata": {
        "id": "GfMqmPNctVY_"
      }
    },
    {
      "cell_type": "markdown",
      "source": [
        "# **🔹 ¿Por qué en scanf no se usa & con arreglos (como cadenas)?**\n",
        "\n",
        "    int x;\n",
        "    scanf(\"%d\", &x);   // aquí sí usamos &\n",
        "\n",
        "    char nombre[20];\n",
        "    scanf(\"%s\", nombre);   // aquí NO usamos &\n",
        "\n",
        "\n",
        "**La diferencia está en cómo C maneja los arreglos:**\n",
        "\n",
        "Una variable normal (int x) es un valor único, y scanf necesita su dirección de memoria, por eso usamos &x.\n",
        "\n",
        "Un arreglo (char nombre[20]) ya representa una dirección de memoria (la posición inicial del bloque donde están los elementos).\n",
        "\n",
        "Es decir, nombre equivale a &nombre[0].\n",
        "\n",
        "Por eso no hace falta usar &.\n",
        "\n",
        "    #include <stdio.h>\n",
        "\n",
        "    int main() {\n",
        "        int edad;\n",
        "        char nombre[20];\n",
        "\n",
        "        printf(\"Ingresa tu edad: \");\n",
        "        scanf(\"%d\", &edad);   // variable → necesita &\n",
        "\n",
        "        printf(\"Ingresa tu nombre: \");\n",
        "        scanf(\"%s\", nombre);  // arreglo → no necesita &\n",
        "\n",
        "        printf(\"Hola %s, tienes %d años.\\n\", nombre, edad);\n",
        "\n",
        "        return 0;\n",
        "    }\n",
        "\n",
        "\n",
        "# **📌 Resumen**\n",
        "\n",
        "Para variables normales: scanf necesita &.\n",
        "\n",
        "Para arreglos: el nombre del arreglo ya es la dirección de memoria, así que no se usa &."
      ],
      "metadata": {
        "id": "t9N1pDuNu67P"
      }
    },
    {
      "cell_type": "markdown",
      "source": [
        "# **PUNTEROS**\n",
        "\n",
        "Sirve para organización de datos en memoria, las direcciones de memoria y los espacios ocupados por los tipos de datos;\n",
        "\n",
        "# Se presentan los operadores '&' y '*',\n",
        "\n",
        "(&) asignación de dirección a un puntero\n",
        "\n",
        "(*)  acceso a la variable apuntada.\n",
        "\n"
      ],
      "metadata": {
        "id": "ky7hd_SqwN71"
      }
    },
    {
      "cell_type": "markdown",
      "source": [
        "# **¿Que es un Puntero?**\n",
        "\n",
        "Un puntero es una variable que guarda una dirección de memoria, en lugar de un valor directamente.\n",
        "\n",
        "    Una variable normal = cajita con un valor.\n",
        "\n",
        "    Un puntero = cajita que guarda la dirección de otra cajita.\n",
        "\n",
        "**Ejemplos de sintaxis**\n",
        "\n",
        "    int *p;   // puntero a un entero\n",
        "    char *c;  // puntero a un caracter\n",
        "    float *f; // puntero a un float\n",
        "\n",
        "# 🔹 Operadores importantes\n",
        "\n",
        "&(ampersand) → devuelve la dirección de memoria de una variable.\n",
        "\n",
        " *(asterisco) → se usa para declarar punteros y para acceder al valor almacenado en la dirección.\n",
        "\n",
        "Ejemplo:\n",
        "\n",
        "    #include <stdio.h>\n",
        "\n",
        "    int main() {\n",
        "        int x = 10;\n",
        "        int *p;    // p es un puntero a entero\n",
        "\n",
        "        p = &x;    // p guarda la dirección de x\n",
        "\n",
        "        printf(\"Valor de x: %d\\n\", x);\n",
        "        printf(\"Direccion de x: %p\\n\", &x);\n",
        "        printf(\"Valor de p (direccion de x): %p\\n\", p);\n",
        "        printf(\"Valor al que apunta p: %d\\n\", *p);\n",
        "\n",
        "        return 0;\n",
        "    }\n",
        "\n",
        "Salida:\n",
        "\n",
        "    Valor de x: 10\n",
        "    Direccion de x: 0x7ffee6c34a9c\n",
        "    Valor de p (direccion de x): 0x7ffee6c34a9c\n",
        "    Valor al que apunta p: 10\n",
        "\n",
        "\n",
        "# 📌 Observa que:\n",
        "\n",
        "p guarda la dirección de x.\n",
        "\n",
        "*p significa “ve a la dirección que guarda p y dame el valor” → en este caso, 10.\n",
        "\n"
      ],
      "metadata": {
        "id": "UC-1kCLQTbn3"
      }
    },
    {
      "cell_type": "markdown",
      "source": [
        "# **🔹 ¿Para qué sirven los punteros?**\n",
        "\n",
        "Ahorrar memoria y trabajar más rápido (no se copian valores grandes, solo direcciones).\n",
        "\n",
        "Paso por referencia a funciones → modificar variables dentro de funciones.\n",
        "\n",
        "Arreglos y cadenas → los nombres de los arreglos son punteros.\n",
        "\n",
        "Estructuras dinámicas → listas enlazadas, árboles, colas, pilas, etc.\n",
        "\n",
        "Manejo de memoria dinámica → con malloc, calloc, free.\n",
        "\n",
        "\n",
        "\n",
        "**Ejemplo: modificar una variable con punteros:**\n",
        "\n",
        "    #include <stdio.h>\n",
        "\n",
        "    void cambiarValor(int *p) {\n",
        "        *p = 99;  // modificamos el valor al que apunta\n",
        "    }\n",
        "\n",
        "    int main() {\n",
        "        int x = 10;\n",
        "\n",
        "        printf(\"Antes: %d\\n\", x);\n",
        "        cambiarValor(&x);   // pasamos la direccion de x\n",
        "        printf(\"Despues: %d\\n\", x);\n",
        "\n",
        "        return 0;\n",
        "    }\n",
        "\n",
        "Salida:\n",
        "\n",
        "    Antes: 10\n",
        "    Despues: 99\n",
        "\n"
      ],
      "metadata": {
        "id": "aOcXMdTIUoP_"
      }
    },
    {
      "cell_type": "markdown",
      "source": [
        "# **📌 Resumen**\n",
        "\n",
        "Un puntero es una variable que guarda una dirección de memoria.\n",
        "\n",
        "&→ dirección de una variable.\n",
        "\n",
        "*→ valor almacenado en esa dirección.\n",
        "\n",
        "Son fundamentales para funciones, arreglos, cadenas, estructuras y memoria dinámica."
      ],
      "metadata": {
        "id": "GEEC9bnNVIKm"
      }
    }
  ]
}
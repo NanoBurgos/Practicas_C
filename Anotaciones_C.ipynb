{
  "nbformat": 4,
  "nbformat_minor": 0,
  "metadata": {
    "colab": {
      "provenance": [],
      "authorship_tag": "ABX9TyNvOP1qqbJ8vzRVJqAtBihn",
      "include_colab_link": true
    },
    "kernelspec": {
      "name": "python3",
      "display_name": "Python 3"
    },
    "language_info": {
      "name": "python"
    }
  },
  "cells": [
    {
      "cell_type": "markdown",
      "metadata": {
        "id": "view-in-github",
        "colab_type": "text"
      },
      "source": [
        "<a href=\"https://colab.research.google.com/github/NanoBurgos/Practicas_C/blob/main/Anotaciones_C.ipynb\" target=\"_parent\"><img src=\"https://colab.research.google.com/assets/colab-badge.svg\" alt=\"Open In Colab\"/></a>"
      ]
    },
    {
      "cell_type": "markdown",
      "source": [
        "# **p/ Ejecutar en C desde Visual**\n",
        "1- Guardar el archivo nombre.c\n",
        "\n",
        "2- Despues de escribir el algoritmo, guardar cambios\n",
        "\n",
        "3- Abrir terminal:\n",
        "  \n",
        "    Escribir gcc nombre.c -o nombre\n",
        "   \n",
        "    gcc -> Compilador de C\n",
        "   \n",
        "    nombre.c -> codigo fuente\n",
        "   \n",
        "    -o nombre -> indicamos el nombre del ejecutable resultante\n",
        "\n",
        "4- Ejecutamos\n",
        "  \n",
        "    desde la terminal: ./nombre\n",
        "\n",
        "# **IMPORTANTE**\n",
        "Cada vez que hacemos algun cambio, debemos volver a compilar antes de ejecutar\n",
        "\n",
        "**Si movemos los archivos de lugar**\n",
        "Hay que abrir la ubicacion(ruta), la carpeta en donde se encuentra el archivo, y alli crear el ejecutable  \n",
        "  "
      ],
      "metadata": {
        "id": "m-smQd-Csjb3"
      }
    },
    {
      "cell_type": "markdown",
      "source": [
        "# **SIMBOLOS Y SIGNIFICADOS**\n",
        "\n",
        "\\n salto de linea\n",
        "\n",
        "\\t tabulacion (espacio/sangria)\n",
        "\n",
        "/*   */ para texto largo\n",
        "\n",
        "caracter -> 'a' comilla simple\n",
        "\n",
        "cadena (texto literal) -> \"oracion\" entre comillas dobles\n",
        "\n",
        "&& = And -> y\n",
        "\n",
        "'||' = Or -> ó\n",
        "\n",
        "Negacion logica -> !: Su forma general es !expresion\n",
        "\n",
        "Este operador devuelve un cero(false) si se aplica a un valor distinto de cero(true) y devuelve un uno(true) si se aplica a un valor cero (false)\n",
        "\n",
        "\n"
      ],
      "metadata": {
        "id": "fBaP9wA3uHTY"
      }
    },
    {
      "cell_type": "markdown",
      "source": [
        "# **Tipos de datos**\n",
        "\n",
        "int %d entero (base 10)\n",
        "\n",
        "int %i entero base octal hexadecimal\n",
        "\n",
        "float %f flotante (decimal)\n",
        "\n",
        "double %lf\n",
        "\n",
        "char %c caracter\n",
        "\n",
        "# **Para cambiar la cant de decimales despues de la coma**\n",
        "\n",
        "    float h = 1.2345678;\n",
        "\n",
        "    printf(\"El valor de h es: %.2f\", h);\n",
        "\n",
        "    -> muestra: El valor de h es: 1.23"
      ],
      "metadata": {
        "id": "2w2hKd3AKR6Q"
      }
    },
    {
      "cell_type": "markdown",
      "source": [
        "aaa"
      ],
      "metadata": {
        "id": "-kJcy9FEMP0-"
      }
    }
  ]
}
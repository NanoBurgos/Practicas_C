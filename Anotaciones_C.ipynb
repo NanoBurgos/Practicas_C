{
  "nbformat": 4,
  "nbformat_minor": 0,
  "metadata": {
    "colab": {
      "provenance": [],
      "authorship_tag": "ABX9TyPekyAvmUttLSOzb1ZvvSku",
      "include_colab_link": true
    },
    "kernelspec": {
      "name": "python3",
      "display_name": "Python 3"
    },
    "language_info": {
      "name": "python"
    }
  },
  "cells": [
    {
      "cell_type": "markdown",
      "metadata": {
        "id": "view-in-github",
        "colab_type": "text"
      },
      "source": [
        "<a href=\"https://colab.research.google.com/github/NanoBurgos/Practicas_C/blob/main/Anotaciones_C.ipynb\" target=\"_parent\"><img src=\"https://colab.research.google.com/assets/colab-badge.svg\" alt=\"Open In Colab\"/></a>"
      ]
    },
    {
      "cell_type": "markdown",
      "source": [
        "Anotaciones varias que fui tomando mientras practicaba"
      ],
      "metadata": {
        "id": "FnU37AME86jG"
      }
    },
    {
      "cell_type": "markdown",
      "source": [
        "# **p/ Ejecutar en C desde Visual**\n",
        "1- Guardar el archivo nombre.c\n",
        "\n",
        "2- Despues de escribir el algoritmo, guardar cambios\n",
        "\n",
        "3- Abrir terminal:\n",
        "  \n",
        "    Escribir gcc nombre.c -o nombre\n",
        "   \n",
        "    gcc -> Compilador de C\n",
        "   \n",
        "    nombre.c -> codigo fuente\n",
        "   \n",
        "    -o nombre -> indicamos el nombre del ejecutable resultante\n",
        "\n",
        "4- Ejecutamos\n",
        "  \n",
        "    desde la terminal: ./nombre\n",
        "\n",
        "# **IMPORTANTE**\n",
        "Cada vez que hacemos algun cambio, debemos volver a compilar antes de ejecutar\n",
        "\n",
        "**Si movemos los archivos de lugar**\n",
        "Hay que abrir la ubicacion(ruta), la carpeta en donde se encuentra el archivo, y alli crear el ejecutable  \n",
        "  "
      ],
      "metadata": {
        "id": "m-smQd-Csjb3"
      }
    },
    {
      "cell_type": "markdown",
      "source": [
        "# **SIMBOLOS Y SIGNIFICADOS**\n",
        "\n",
        "\\n salto de linea\n",
        "\n",
        "\\t tabulacion (espacio/sangria)\n",
        "\n",
        "/*   */ para texto largo\n",
        "\n",
        "caracter -> 'a' comilla simple\n",
        "\n",
        "cadena (texto literal) -> \"oracion\" entre comillas dobles\n",
        "\n",
        "&& = And -> y\n",
        "\n",
        "'||' = Or -> ó\n",
        "\n",
        "Negacion logica -> !: Su forma general es !expresion\n",
        "\n",
        "Este operador devuelve un cero(false) si se aplica a un valor distinto de cero(true) y devuelve un uno(true) si se aplica a un valor cero (false)\n",
        "\n",
        "'\\0' simboliza el final de la cadena\n",
        "\n",
        "\n"
      ],
      "metadata": {
        "id": "fBaP9wA3uHTY"
      }
    },
    {
      "cell_type": "markdown",
      "source": [
        "# **Tipos de datos**\n",
        "\n",
        "int %d entero (base 10)\n",
        "\n",
        "int %i entero base octal hexadecimal\n",
        "\n",
        "float %f flotante (decimal)\n",
        "\n",
        "double %lf\n",
        "\n",
        "char %c caracter\n",
        "\n",
        "string %s cadena (el tipo cadena no existe en C), en realidad es un vector de caracteres\n",
        "\n",
        "# **Para cambiar la cant de decimales despues de la coma**\n",
        "\n",
        "    float h = 1.2345678;\n",
        "\n",
        "    printf(\"El valor de h es: %.2f\", h);\n",
        "\n",
        "    -> muestra: El valor de h es: 1.23"
      ],
      "metadata": {
        "id": "2w2hKd3AKR6Q"
      }
    },
    {
      "cell_type": "markdown",
      "source": [
        "# **Para mostrar un mensaje con varias cosas,**\n",
        "\n",
        "Tenemos que poner la estructura que tendra el mensaje:\n",
        "\n",
        "Ej: 300 = 2^2 * 3^1 * 5^2 si queremos mostrar esto en pantalla\n",
        "\n",
        "    if(n!=1) printf(\"%d^%d *\",i,exponente);\n",
        "              else printf(\"%d^%d\\n\",i,exponente);\n",
        "\n",
        "\n"
      ],
      "metadata": {
        "id": "-kJcy9FEMP0-"
      }
    },
    {
      "cell_type": "markdown",
      "source": [
        "# **Recursividad**\n",
        "Es cuando una función se llama a sí misma para resolver un problema.\n",
        "\n",
        "Una función recursiva:\n",
        "\n",
        "Caso base → condición que detiene la recursión.\n",
        "\n",
        "Caso recursivo → la función se llama a sí misma con un problema más pequeño.\n",
        "\n",
        "**Sin un caso base**, la función se llamaría infinitamente y el programa se “rompería” (desbordamiento de pila)."
      ],
      "metadata": {
        "id": "Y186EDGgD1st"
      }
    },
    {
      "cell_type": "markdown",
      "source": [
        "# **Cadenas**\n",
        "\n",
        "Una cadena en realidad es un **arreglo** o un **vector de caracteres**\n",
        "\n",
        "\"Las cadenas se ponen entre comillas dobles\"\n",
        "\n",
        "\"hola que tal\" --> '\\0' la convencion en C, es que al final de la cadena se agrega un caracter mas\n",
        "\n",
        "'\\0' simboliza el final de la cadena\n",
        "\n",
        "Tenemos dos Funciones principales para capturar cadenas, (ambas estan en stdio.h)\n",
        "\n",
        "scanf(\"%s\", cadena) en el caso de los vectores o cadenas, NO se pone el & (no se busca la direccion de la cadena)\n"
      ],
      "metadata": {
        "id": "XY5ecSUTEqAd"
      }
    },
    {
      "cell_type": "markdown",
      "source": [
        "# **scanf**\n",
        "guarda lo ingresado, hasta que encuentra un espacio, una tabulacion o un enter\n",
        "\n",
        "    frase = scanf(\"hola que tal\")\n",
        "    -> frase = hola\n",
        "\n",
        "Si queremos capturar todo lo ingresado, incluyendo los espacio, debemos usar la funcion **gets()**"
      ],
      "metadata": {
        "id": "1wE4RGqynDxg"
      }
    },
    {
      "cell_type": "markdown",
      "source": [
        "# **ARREGLOS EN C**\n",
        "Un arreglo en C (también llamado array o vector) es una colección de elementos del mismo tipo, almacenados de forma contigua en memoria y accesibles mediante un índice numérico.\n",
        "\n",
        "**Características principales de un arreglo en C**\n",
        "\n",
        "Todos los elementos son del mismo tipo (int, float, char, etc.).\n",
        "\n",
        "El tamaño se define al declararlo y no se puede cambiar durante la ejecución.\n",
        "\n",
        "El índice empieza en 0 (el primer elemento está en la posición 0, el segundo en 1, etc.).\n",
        "\n",
        "Se guardan en posiciones consecutivas de memoria.\n",
        "\n",
        "    Sintaxis Basica\n",
        "\n",
        "    tipo nombre[tamaño];\n",
        "\n",
        "    Ej: int numeros[5]; //Esto reserva espacio en memoria para 5 enteros consecutivos.\n",
        "\n",
        "También puedes dejar que C cuente:\n",
        "\n",
        "    int numeros[] = {10, 20, 30, 40, 50};  // tamaño = 5\n",
        "\n",
        "# 🔹 Acceder a elementos\n",
        "\n",
        "    #include <stdio.h>\n",
        "\n",
        "    int main() {\n",
        "        int numeros[5] = {10, 20, 30, 40, 50};\n",
        "\n",
        "        printf(\"Primer elemento: %d\\n\", numeros[0]);\n",
        "        printf(\"Tercer elemento: %d\\n\", numeros[2]);\n",
        "\n",
        "        numeros[1] = 100;  // Cambiar el valor en la posición 1\n",
        "        printf(\"Nuevo valor en [1]: %d\\n\", numeros[1]);\n",
        "\n",
        "        return 0;\n",
        "    }\n",
        "\n",
        "# 🔹 Recorrer un arreglo con un bucle\n",
        "\n",
        "    #include <stdio.h>\n",
        "\n",
        "    int main() {\n",
        "        int i;\n",
        "        int numeros[5] = {2, 4, 6, 8, 10};\n",
        "\n",
        "        printf(\"Elementos del arreglo:\\n\");\n",
        "        for (i = 0; i < 5; i++) {\n",
        "            printf(\"numeros[%d] = %d\\n\", i, numeros[i]);\n",
        "        }\n",
        "\n",
        "        return 0;\n",
        "    }\n",
        "\n",
        "# 🔹 Arreglos bidimensionales (matrices)\n",
        "\n",
        "Un arreglo 2D se usa como tabla o matriz:\n",
        "\n",
        "    #include <stdio.h>\n",
        "\n",
        "    int main() {\n",
        "        int matriz[2][3] = {\n",
        "            {1, 2, 3},\n",
        "            {4, 5, 6}\n",
        "        };\n",
        "\n",
        "        printf(\"Elemento en fila 1, columna 2: %d\\n\", matriz[0][1]);  // 2\n",
        "        printf(\"Elemento en fila 2, columna 3: %d\\n\", matriz[1][2]);  // 6\n",
        "\n",
        "        return 0;\n",
        "    }\n",
        "\n",
        "# 📌 Resumen\n",
        "\n",
        "Un arreglo es un conjunto de variables del mismo tipo.\n",
        "\n",
        "Se accede a sus elementos con índices ([0], [1], ...).\n",
        "\n",
        "Puede ser unidimensional (lista) o multidimensional (matriz)."
      ],
      "metadata": {
        "id": "GfMqmPNctVY_"
      }
    },
    {
      "cell_type": "markdown",
      "source": [
        "# **🔹 ¿Por qué en scanf no se usa & con arreglos (como cadenas)?**\n",
        "\n",
        "    int x;\n",
        "    scanf(\"%d\", &x);   // aquí sí usamos &\n",
        "\n",
        "    char nombre[20];\n",
        "    scanf(\"%s\", nombre);   // aquí NO usamos &\n",
        "\n",
        "\n",
        "**La diferencia está en cómo C maneja los arreglos:**\n",
        "\n",
        "Una variable normal (int x) es un valor único, y scanf necesita su dirección de memoria, por eso usamos &x.\n",
        "\n",
        "Un arreglo (char nombre[20]) ya representa una dirección de memoria (la posición inicial del bloque donde están los elementos).\n",
        "\n",
        "Es decir, nombre equivale a &nombre[0].\n",
        "\n",
        "Por eso no hace falta usar &.\n",
        "\n",
        "    #include <stdio.h>\n",
        "\n",
        "    int main() {\n",
        "        int edad;\n",
        "        char nombre[20];\n",
        "\n",
        "        printf(\"Ingresa tu edad: \");\n",
        "        scanf(\"%d\", &edad);   // variable → necesita &\n",
        "\n",
        "        printf(\"Ingresa tu nombre: \");\n",
        "        scanf(\"%s\", nombre);  // arreglo → no necesita &\n",
        "\n",
        "        printf(\"Hola %s, tienes %d años.\\n\", nombre, edad);\n",
        "\n",
        "        return 0;\n",
        "    }\n",
        "\n",
        "\n",
        "# **📌 Resumen**\n",
        "\n",
        "Para variables normales: scanf necesita &.\n",
        "\n",
        "Para arreglos: el nombre del arreglo ya es la dirección de memoria, así que no se usa &."
      ],
      "metadata": {
        "id": "t9N1pDuNu67P"
      }
    },
    {
      "cell_type": "markdown",
      "source": [],
      "metadata": {
        "id": "ky7hd_SqwN71"
      }
    }
  ]
}